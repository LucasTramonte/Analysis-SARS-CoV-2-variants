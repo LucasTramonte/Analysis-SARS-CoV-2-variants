{
 "cells": [
  {
   "cell_type": "markdown",
   "metadata": {},
   "source": [
    "Libraries"
   ]
  },
  {
   "cell_type": "code",
   "execution_count": null,
   "metadata": {},
   "outputs": [],
   "source": [
    "import numpy as np\n",
    "import pandas as pd\n",
    "import matplotlib.pyplot as plt\n",
    "from matplotlib import pyplot\n",
    "from sklearn.feature_selection import chi2\n",
    "import scipy.stats as stats\n",
    "from sklearn.model_selection import train_test_split\n",
    "from sklearn.linear_model import LogisticRegression\n",
    "from sklearn import metrics\n",
    "import seaborn as sn\n",
    "import statsmodels.api as sm\n",
    "import statsmodels.formula.api as smf\n",
    "from sklearn.preprocessing import StandardScaler\n",
    "import warnings"
   ]
  },
  {
   "cell_type": "markdown",
   "metadata": {},
   "source": [
    "Datasets"
   ]
  },
  {
   "cell_type": "code",
   "execution_count": null,
   "metadata": {},
   "outputs": [],
   "source": [
    "df_original = pd.read_csv('data/df_preprocessed.csv', delimiter=',')"
   ]
  },
  {
   "cell_type": "code",
   "execution_count": null,
   "metadata": {},
   "outputs": [],
   "source": [
    "df = df_original.copy(deep = True)\n",
    "df.drop(columns=['Unnamed: 0'], inplace= True)"
   ]
  },
  {
   "cell_type": "code",
   "execution_count": null,
   "metadata": {},
   "outputs": [],
   "source": [
    "df['VARIANTE_COVID'].value_counts() #1: gamma, 2: delta e 3:omicrom"
   ]
  },
  {
   "cell_type": "code",
   "execution_count": null,
   "metadata": {},
   "outputs": [],
   "source": [
    "df.shape"
   ]
  },
  {
   "cell_type": "markdown",
   "metadata": {},
   "source": [
    "CONSTANTS"
   ]
  },
  {
   "cell_type": "code",
   "execution_count": null,
   "metadata": {},
   "outputs": [],
   "source": [
    "DIC_GAMA_VS_OMICROM = {1:1,3:0} # Gamma : 1 , Omicrom : 0\n",
    "DIC_DELTA_VS_OMICROM = {2:1,3:0} # Delta : 1 , Omicrom : 0\n",
    "DIC_GAMA_VS_DELTA = {1:1,2:0} # Gamma : 1, Omicrom : 0\n",
    "DIC_RACA = {1:'Branca', 2:'Preta',3:'Amarela',4:'Parda',5:'Indigena', 'Missing' : 'Missing'}\n",
    "DIC_OBESIDADE = {1:'Yes', 2:'No', 'Missing' : 'Missing'}\n",
    "DIC_CARDIOPATI = {1:'Yes', 2:'No', 'Missing' : 'Missing'}\n",
    "DIC_DIABETES = {1:'Yes', 2:'No', 'Missing' : 'Missing'}\n",
    "DIC_VACINA = {1:'Yes', 2:'No', 'Missing' : 'Missing'}\n",
    "DIC_ESCOLA = {0:'Sem escolaridade', 1:'Fundamental 1',2:'Fundamental 2',3:'Médio',4:'Superior', 5 : 'Not applicable', 'Missing' : 'Missing'}\n",
    "DIC_GRAVIDEZ = {1:'Trimestre 1', 2:'Trimestre 2',3:'Trimestre 3',4:'Idade Gestacional Ignorada',5:'Puerperas', 'Missing' : 'Missing'}"
   ]
  },
  {
   "cell_type": "markdown",
   "metadata": {},
   "source": [
    "### Pre processing"
   ]
  },
  {
   "cell_type": "code",
   "execution_count": null,
   "metadata": {},
   "outputs": [],
   "source": [
    "df.shape"
   ]
  },
  {
   "cell_type": "markdown",
   "metadata": {},
   "source": [
    "Percentage of the number '9' in each column. As in the pre-processing all NANs were replaced by 9, now a column having 60 percent of '9' indicates that 60 percent of its values represent ignored values or NANs. "
   ]
  },
  {
   "cell_type": "code",
   "execution_count": null,
   "metadata": {},
   "outputs": [],
   "source": [
    "(df.eq(9).sum()/df.shape[0]*100).sort_values(ascending=False)"
   ]
  },
  {
   "cell_type": "markdown",
   "metadata": {},
   "source": [
    "Categorizing missing values"
   ]
  },
  {
   "cell_type": "code",
   "execution_count": null,
   "metadata": {},
   "outputs": [],
   "source": [
    "df.replace(9, np.nan, inplace=True)\n",
    "\n",
    "# Categorizing missing values\n",
    "df.fillna('Missing', inplace=True)"
   ]
  },
  {
   "cell_type": "markdown",
   "metadata": {},
   "source": [
    "Mapping dictionaries"
   ]
  },
  {
   "cell_type": "code",
   "execution_count": null,
   "metadata": {},
   "outputs": [],
   "source": [
    "df['CS_RACA']=df['CS_RACA'].map(DIC_RACA)\n",
    "df['GRAVIDEZ'] = df['GRAVIDEZ'].map(DIC_GRAVIDEZ)\n",
    "df['VACINA_COV'] = df['VACINA_COV'].map(DIC_VACINA)\n",
    "df['CARDIOPATI'] = df['CARDIOPATI'].map(DIC_CARDIOPATI)\n",
    "df['Age_group'] = pd.cut(df['NU_IDADE_N'], bins = [0, 20, 25, 30, 35, 40, 99], include_lowest = True, labels = ['0-19', '20-24', '25-29', '30-34', '35-39', '40+'])\n",
    "df['DIABETES'] = df['DIABETES'].map(DIC_DIABETES)\n",
    "df['OBESIDADE'] = df['OBESIDADE'].map(DIC_OBESIDADE)\n",
    "df['CS_ESCOL_N'] = df['CS_ESCOL_N'].map(DIC_ESCOLA)\n",
    "#df['UTI'] = df['UTI'].replace({1: \"True\", 2: \"False\"}) # 1 : YES , 2 : NO\n",
    "df['UTI'] = df['UTI'].replace({1: 1, 2: 0}) # 1 : YES , 2 : NO\n",
    "#df['EVOLUCAO'] = df['EVOLUCAO'].replace({1: 'False', 2: 'True'}) # Now we have cure = False; death = True\n",
    "df['EVOLUCAO'] = df['EVOLUCAO'].replace({1: 0, 2: 1}) # Now we have cure = 0; death = 1"
   ]
  },
  {
   "cell_type": "markdown",
   "metadata": {},
   "source": [
    "# 1. Table 3: Risk estimates for adverse maternal and perinatal outcomes among COVID-19 infection laboratory-confirmed case:"
   ]
  },
  {
   "cell_type": "code",
   "execution_count": null,
   "metadata": {},
   "outputs": [],
   "source": [
    "def analyze_and_plot(response, predictor, data, iloc_start, iloc_end, variant1, variant2, covariates=None):\n",
    "    \n",
    "    if response == \"EVOLUCAO\":\n",
    "        data = data[data[\"EVOLUCAO\"] != 3] # ignore \"Death from other causes\"\n",
    "\n",
    "    # Logistic regression model\n",
    "    formula = f\"{response} ~ {predictor}\"\n",
    "    if covariates:\n",
    "        formula += f\" + {covariates}\"\n",
    "\n",
    "    # Logistic regression model\n",
    "    print(f\"Logistic regression model {response}:\")\n",
    "    model = smf.logit(formula, data=data).fit()\n",
    "    #print(model.summary())\n",
    "\n",
    "    # Odds ratios\n",
    "    odds_ratios = pd.DataFrame(\n",
    "        {\n",
    "            \"OR\": model.params,\n",
    "            \"Lower CI\": model.conf_int()[0],\n",
    "            \"Upper CI\": model.conf_int()[1],\n",
    "        }\n",
    "    )\n",
    "    odds_ratios = np.exp(odds_ratios)\n",
    "    odds_ratios = odds_ratios.iloc[iloc_start:iloc_end]\n",
    "\n",
    "    # Plot odds ratios\n",
    "    print()\n",
    "    print(f\"Odds ratios for {predictor}:\")\n",
    "    print(odds_ratios)\n",
    "    print()\n",
    "\n",
    "    # Crosstab\n",
    "    crosstab = pd.crosstab(data[response], data[predictor])\n",
    "\n",
    "    if response == \"UTI\":\n",
    "        #crosstab.rename(columns={\"True\": \"YES\", \"False\": \"NO\"}, index={1: variant1, 0: variant2}, inplace=True)\n",
    "        crosstab.rename(columns={1: variant1, 0: variant2}, index={1: \"YES\", 0: \"NO\"}, inplace=True)\n",
    "    else:\n",
    "        crosstab.rename(columns = {1: variant1, 0: variant2}, index = {0:\"Cure\", 1: \"Death\"} ,inplace = True)\n",
    "        #crosstab.rename(columns = {\"False\":\"Cure\", \"True\": \"Death\", 3 : \"Death from other causes\"}, index = {1: variant1, 0: variant2} ,inplace = True)\n",
    "    plt.figure(figsize=(8, 6))\n",
    "    ax = sn.heatmap(crosstab, annot=True, fmt=\"d\", cmap = \"coolwarm\", cbar=True)\n",
    "\n",
    "    # Add values to each cell\n",
    "    for i in range(len(crosstab)):\n",
    "        for j in range(len(crosstab.columns)):\n",
    "            ax.text(j + 0.5, i + 0.5, crosstab.iloc[i, j],\n",
    "                    ha='center', va='center', color='black', fontsize=10)\n",
    "\n",
    "    #plt.title(f\"Number of {response.lower()} for each variant\")\n",
    "    plt.xlabel(\"VARIANTE_COVID\")\n",
    "    plt.ylabel(response)\n",
    "    plt.show()"
   ]
  },
  {
   "cell_type": "markdown",
   "metadata": {},
   "source": [
    "Logistic Regression for Covid Variant (GAMMA VS OMICROM)"
   ]
  },
  {
   "cell_type": "code",
   "execution_count": null,
   "metadata": {},
   "outputs": [],
   "source": [
    "df_temp = df.loc[df['VARIANTE_COVID'] != 2].copy() #gamma versus omicrom\n",
    "df_temp = df_temp[df_temp['UTI'] != 'Missing']\n",
    "df_temp['UTI'] = df_temp['UTI'].astype(int)\n",
    "df_temp.reset_index(inplace = True, drop = True)\n",
    "df_temp['VARIANTE_COVID']=df_temp['VARIANTE_COVID'].map(DIC_GAMA_VS_OMICROM) # Gamma : 1 , Omicrom : 0\n",
    "\n",
    "analyze_and_plot(\"UTI\", \"VARIANTE_COVID\", df_temp, 1, 3,\"GAMMA\", \"OMICROM\")"
   ]
  },
  {
   "cell_type": "markdown",
   "metadata": {},
   "source": [
    "Interpretation:\n",
    "\n",
    "Exposed group : Patient has the gamma variant\n",
    "\n",
    "Non-exposed group : Patient has the omicrom variant\n",
    "\n",
    "Event Exposed group : Patient transferred to ICU\n",
    "\n",
    "- a : Patient with gamma and transferred to ICU = 2737\n",
    "- c : Patient with omicrom and transferred to ICU = 407\n",
    "- b : Patient with gamma and not transferred to ICU = 4747\n",
    "- d : Patient with omicrom and not transferred to ICU = 3031\n",
    "\n",
    "$OR = \\frac{a/b}{c/d} = 4,2938$ \n",
    "\n",
    "Therefore, the group of patients with the gamma variant has 4.2938 times the odds of being transferred to the ICU compared to omicron variant patients.\n"
   ]
  },
  {
   "cell_type": "code",
   "execution_count": null,
   "metadata": {},
   "outputs": [],
   "source": [
    "df_temp = df.loc[df['VARIANTE_COVID'] != 2].copy() #gamma versus omicrom\n",
    "df_temp = df_temp[df_temp['EVOLUCAO'] != 'Missing']\n",
    "df_temp['EVOLUCAO'] = df_temp['EVOLUCAO'].astype(int)\n",
    "df_temp.reset_index(inplace = True, drop = True)\n",
    "df_temp['VARIANTE_COVID']=df_temp['VARIANTE_COVID'].map(DIC_GAMA_VS_OMICROM) # Gamma : 1 , Omicrom : 0\n",
    "\n",
    "analyze_and_plot(\"EVOLUCAO\",\"VARIANTE_COVID\", df_temp, 1, 3,\"GAMMA\", \"OMICROM\")"
   ]
  },
  {
   "cell_type": "markdown",
   "metadata": {},
   "source": [
    "Interpretation:\n",
    "\n",
    "Exposed group  : Patient has the gamma variant\n",
    "\n",
    "Non-exposed group : Patient has the omicrom variant\n",
    "\n",
    "Event : Patient died (True)\n",
    "\n",
    "- a : Patient with gamma and died = 1138\n",
    "- c : Patient with omicrom and died= 135\n",
    "- b : Patient with gamma and cured = 6460\n",
    "- d : Patient with omicrom and cured = 3512\n",
    "\n",
    "$OR = \\frac{a/b}{c/d} = 4,5827$ \n",
    "\n",
    "Therefore, the group of patients with the gamma variant has 4.5827 times the odds of being dead compared to omicron variant patients."
   ]
  },
  {
   "cell_type": "markdown",
   "metadata": {},
   "source": [
    "### Logistic Regression for Covid Variant (GAMA VS OMICROM) -Adjusted for age, gestational period, region, skin color, vaccination status"
   ]
  },
  {
   "cell_type": "code",
   "execution_count": null,
   "metadata": {},
   "outputs": [],
   "source": [
    "df_temp = df.loc[df['VARIANTE_COVID'] != 2].copy() #gamma versus omicrom\n",
    "df_temp = df_temp[df_temp['UTI'] != 'Missing']\n",
    "df_temp['UTI'] = df_temp['UTI'].astype(int)\n",
    "df_temp.reset_index(inplace = True, drop = True)\n",
    "df_temp['VARIANTE_COVID']=df_temp['VARIANTE_COVID'].map(DIC_GAMA_VS_OMICROM) # Gamma : 1 , Omicrom : 0\n",
    "\n",
    "analyze_and_plot(\"UTI\",\"VARIANTE_COVID\",df_temp, 1 , 32 ,\"GAMMA\",\"OMICROM\", \"Age_group + VACINA_COV + C(Regiao_nome) + C(CS_RACA) + C(GRAVIDEZ) + CS_ESCOL_N + CARDIOPATI + OBESIDADE\")"
   ]
  },
  {
   "cell_type": "code",
   "execution_count": null,
   "metadata": {},
   "outputs": [],
   "source": [
    "df_temp = df.loc[df['VARIANTE_COVID'] != 2].copy() #gamma versus omicrom\n",
    "df_temp = df_temp[df_temp['EVOLUCAO'] != 'Missing']\n",
    "df_temp['EVOLUCAO'] = df_temp['EVOLUCAO'].astype(int)\n",
    "df_temp.reset_index(inplace = True, drop = True)\n",
    "df_temp['VARIANTE_COVID']=df_temp['VARIANTE_COVID'].map(DIC_GAMA_VS_OMICROM) # Gamma : 1 , Omicrom : 0\n",
    "\n",
    "analyze_and_plot(\"EVOLUCAO\",\"VARIANTE_COVID\",df_temp, 1 , 32 ,\"GAMMA\",\"OMICROM\", \"Age_group + VACINA_COV + C(Regiao_nome) + C(CS_RACA) + C(GRAVIDEZ) + CS_ESCOL_N + CARDIOPATI + OBESIDADE\")"
   ]
  },
  {
   "cell_type": "markdown",
   "metadata": {},
   "source": [
    "Logistic regression for Covid Variant (DELTA VS OMICROM)"
   ]
  },
  {
   "cell_type": "code",
   "execution_count": null,
   "metadata": {},
   "outputs": [],
   "source": [
    "df_temp = df.loc[df['VARIANTE_COVID'] != 1].copy() #delta versus omicrom\n",
    "df_temp = df_temp[df_temp['UTI'] != 'Missing']\n",
    "df_temp['UTI'] = df_temp['UTI'].astype(int)\n",
    "df_temp.reset_index(inplace = True, drop = True)\n",
    "df_temp['VARIANTE_COVID']=df_temp['VARIANTE_COVID'].map(DIC_DELTA_VS_OMICROM) # true : delta, false : omicrom\n",
    "\n",
    "analyze_and_plot(\"UTI\",\"VARIANTE_COVID\",df_temp,1, 3,\"DELTA\", \"OMICROM\")"
   ]
  },
  {
   "cell_type": "code",
   "execution_count": null,
   "metadata": {},
   "outputs": [],
   "source": [
    "df_temp = df.loc[df['VARIANTE_COVID'] != 1].copy() #delta versus omicrom\n",
    "df_temp = df_temp[df_temp['EVOLUCAO'] != 'Missing']\n",
    "df_temp['EVOLUCAO'] = df_temp['EVOLUCAO'].astype(int)\n",
    "df_temp.reset_index(inplace = True, drop = True)\n",
    "df_temp['VARIANTE_COVID']=df_temp['VARIANTE_COVID'].map(DIC_DELTA_VS_OMICROM) # true : delta, false : omicrom\n",
    "\n",
    "analyze_and_plot(\"EVOLUCAO\",\"VARIANTE_COVID\",df_temp,1, 3,\"DELTA\",\"OMICROM\")"
   ]
  },
  {
   "cell_type": "markdown",
   "metadata": {},
   "source": [
    "Logistic Regression for Covid Variant (DELTA VS OMICROM) -Adjusted for age, gestational period, region, skin color, vaccination status"
   ]
  },
  {
   "cell_type": "code",
   "execution_count": null,
   "metadata": {},
   "outputs": [],
   "source": [
    "df_temp = df.loc[df['VARIANTE_COVID'] != 1].copy() #delta versus omicrom\n",
    "df_temp = df_temp[df_temp['UTI'] != 'Missing']\n",
    "df_temp['UTI'] = df_temp['UTI'].astype(int)\n",
    "df_temp.reset_index(inplace = True, drop = True)\n",
    "df_temp['VARIANTE_COVID']=df_temp['VARIANTE_COVID'].map(DIC_DELTA_VS_OMICROM) # true : delta, false : omicrom\n",
    "\n",
    "analyze_and_plot(\"UTI\",\"VARIANTE_COVID\",df_temp, 1 , 32 ,\"DELTA\",\"OMICROM\", \"Age_group + VACINA_COV + C(Regiao_nome) + C(CS_RACA) + C(GRAVIDEZ) + CS_ESCOL_N + CARDIOPATI + OBESIDADE\")"
   ]
  },
  {
   "cell_type": "code",
   "execution_count": null,
   "metadata": {},
   "outputs": [],
   "source": [
    "df_temp = df.loc[df['VARIANTE_COVID'] != 1].copy() #delta versus omicrom\n",
    "df_temp = df_temp[df_temp['EVOLUCAO'] != 'Missing']\n",
    "df_temp['EVOLUCAO'] = df_temp['EVOLUCAO'].astype(int)\n",
    "df_temp.reset_index(inplace = True, drop = True)\n",
    "df_temp['VARIANTE_COVID']=df_temp['VARIANTE_COVID'].map(DIC_DELTA_VS_OMICROM) # true : delta, false : omicrom\n",
    "\n",
    "analyze_and_plot(\"EVOLUCAO\",\"VARIANTE_COVID\",df_temp, 1 , 32 ,\"DELTA\",\"OMICROM\", \"Age_group + VACINA_COV + C(Regiao_nome) + C(CS_RACA) + C(GRAVIDEZ) + CS_ESCOL_N + CARDIOPATI + OBESIDADE\")"
   ]
  },
  {
   "cell_type": "markdown",
   "metadata": {},
   "source": [
    "Logistic Regression for Covid Variant (GAMMA VS DELTA)"
   ]
  },
  {
   "cell_type": "code",
   "execution_count": null,
   "metadata": {},
   "outputs": [],
   "source": [
    "df_temp = df.loc[df['VARIANTE_COVID'] != 3].copy()#Gama vs delta\n",
    "df_temp = df_temp[df_temp['UTI'] != 'Missing']\n",
    "df_temp['UTI'] = df_temp['UTI'].astype(int)\n",
    "df_temp.reset_index(inplace = True, drop = True)\n",
    "df_temp['VARIANTE_COVID']=df_temp['VARIANTE_COVID'].map(DIC_GAMA_VS_DELTA) # true : Gama, false : Delta\n",
    "\n",
    "analyze_and_plot(\"UTI\",\"VARIANTE_COVID\", df_temp, 1, 3,\"GAMMA\", \"DELTA\")"
   ]
  },
  {
   "cell_type": "code",
   "execution_count": null,
   "metadata": {},
   "outputs": [],
   "source": [
    "df_temp = df.loc[df['VARIANTE_COVID'] != 3].copy()#Gama vs delta\n",
    "df_temp = df_temp[df_temp['EVOLUCAO'] != 'Missing']\n",
    "df_temp['EVOLUCAO'] = df_temp['EVOLUCAO'].astype(int)\n",
    "df_temp.reset_index(inplace = True, drop = True)\n",
    "df_temp['VARIANTE_COVID']=df_temp['VARIANTE_COVID'].map(DIC_GAMA_VS_DELTA) # true : Gama, false : Delta\n",
    "\n",
    "\n",
    "analyze_and_plot(\"EVOLUCAO\",\"VARIANTE_COVID\", df_temp, 1, 3,\"GAMMA\", \"DELTA\")"
   ]
  },
  {
   "cell_type": "markdown",
   "metadata": {},
   "source": [
    "Logistic Regression for Covid Variant (GAMMA VS DELTA)-Adjusted for age, gestational period, region, skin color, vaccination status"
   ]
  },
  {
   "cell_type": "code",
   "execution_count": null,
   "metadata": {},
   "outputs": [],
   "source": [
    "df_temp = df.loc[df['VARIANTE_COVID'] != 3].copy()#Gama vs delta\n",
    "df_temp = df_temp[df_temp['UTI'] != 'Missing']\n",
    "df_temp['UTI'] = df_temp['UTI'].astype(int)\n",
    "df_temp.reset_index(inplace = True, drop = True)\n",
    "df_temp['VARIANTE_COVID']=df_temp['VARIANTE_COVID'].map(DIC_GAMA_VS_DELTA) # true : Gama, false : Delta\n",
    "\n",
    "analyze_and_plot(\"UTI\",\"VARIANTE_COVID\",df_temp, 1 , 32 ,\"GAMMA\", \"DELTA\", \"Age_group + VACINA_COV + C(Regiao_nome) + C(CS_RACA) + C(GRAVIDEZ) + CS_ESCOL_N + CARDIOPATI + OBESIDADE\")"
   ]
  },
  {
   "cell_type": "code",
   "execution_count": null,
   "metadata": {},
   "outputs": [],
   "source": [
    "df_temp = df.loc[df['VARIANTE_COVID'] != 3].copy()#Gama vs delta\n",
    "df_temp = df_temp[df_temp['EVOLUCAO'] != 'Missing']\n",
    "df_temp['EVOLUCAO'] = df_temp['EVOLUCAO'].astype(int)\n",
    "df_temp.reset_index(inplace = True, drop = True)\n",
    "df_temp['VARIANTE_COVID']=df_temp['VARIANTE_COVID'].map(DIC_GAMA_VS_DELTA) # true : Gama, false : Delta\n",
    "\n",
    "analyze_and_plot(\"EVOLUCAO\", \"VARIANTE_COVID\",df_temp, 1 , 32 ,\"GAMMA\", \"DELTA\" ,\"Age_group + VACINA_COV + C(Regiao_nome) + C(CS_RACA) + C(GRAVIDEZ) + CS_ESCOL_N + CARDIOPATI + OBESIDADE\")"
   ]
  },
  {
   "cell_type": "markdown",
   "metadata": {},
   "source": [
    "### Logistic regression for Covid Variant (DELTA VS OMICROM) for each region"
   ]
  },
  {
   "cell_type": "code",
   "execution_count": null,
   "metadata": {},
   "outputs": [],
   "source": [
    "df_temp = df.loc[df['VARIANTE_COVID'] != 1].copy()  \n",
    "df_temp.reset_index(inplace=True, drop=True)\n",
    "\n",
    "#create a variable\n",
    "df_temp['UTI_EVOLUCAO'] = df_temp['VARIANTE_COVID'] * np.nan\n",
    "\n",
    "lista_obito = [1, 3]\n",
    "for i in range(len(df_temp['VARIANTE_COVID'])):\n",
    "    if (df_temp['EVOLUCAO'][i] in lista_obito) and (df_temp['UTI'][i] == 0):  # Individuals who were not admitted to the ICU and died\n",
    "        df_temp.loc[i, 'UTI_EVOLUCAO'] = 1\n",
    "    if (df_temp['EVOLUCAO'][i] in lista_obito) and (df_temp['UTI'][i] == 1):  # Individuals who were admitted to the ICU and died\n",
    "        df_temp.loc[i, 'UTI_EVOLUCAO'] = 1\n",
    "    if (df_temp['EVOLUCAO'][i] == 0) and (df_temp['UTI'][i] == 1):  # Individuals admitted to the ICU who did not die\n",
    "        df_temp.loc[i, 'UTI_EVOLUCAO'] = 1\n",
    "    if (df_temp['EVOLUCAO'][i] == 0) and (df_temp['UTI'][i] == 0):  # Individuals who were not admitted to the ICU and did not die\n",
    "        df_temp.loc[i, 'UTI_EVOLUCAO'] = 0\n",
    "        \n",
    "df_temp['UTI_EVOLUCAO'].fillna('Missing', inplace=True)\n",
    "df_temp = df_temp[df_temp['UTI_EVOLUCAO'] != 'Missing']\n",
    "\n",
    "df_temp['VARIANTE_COVID']=df_temp['VARIANTE_COVID'].map(DIC_DELTA_VS_OMICROM) # true : delta, false : omicrom"
   ]
  },
  {
   "cell_type": "code",
   "execution_count": null,
   "metadata": {},
   "outputs": [],
   "source": [
    "df_temp['UTI_EVOLUCAO'].value_counts()"
   ]
  },
  {
   "cell_type": "code",
   "execution_count": null,
   "metadata": {},
   "outputs": [],
   "source": [
    "#delimit the dataset for each region\n",
    "\n",
    "df_temp_sudeste = df_temp.loc[df_temp['Regiao_nome'] == 'Southeast']\n",
    "df_temp_Sul = df_temp.loc[df_temp['Regiao_nome'] == 'South']\n",
    "df_temp_Nordeste = df_temp.loc[df_temp['Regiao_nome'] == 'Northeast']\n",
    "df_temp_Centro_oeste = df_temp.loc[df_temp['Regiao_nome'] == 'Midwest']\n",
    "df_temp_Norte = df_temp.loc[df_temp['Regiao_nome'] == 'North']"
   ]
  },
  {
   "cell_type": "code",
   "execution_count": null,
   "metadata": {},
   "outputs": [],
   "source": [
    "region_list = ['Southeast', 'South', 'Northeast', 'Midwest', 'North', 'Brazil']\n",
    "data_list = [df_temp_sudeste, df_temp_Sul, df_temp_Nordeste, df_temp_Centro_oeste, df_temp_Norte, df_temp]\n",
    "odds_ratios = []\n",
    "lowerCI = []\n",
    "upperCI = []\n",
    "\n",
    "# Loop through each region and perform logistic regression\n",
    "for region, data_ in zip(region_list, data_list):\n",
    "    with warnings.catch_warnings():\n",
    "        warnings.simplefilter(\"ignore\")\n",
    "        model = smf.logit(\"VARIANTE_COVID ~ UTI_EVOLUCAO\", data=data_).fit(disp=False)\n",
    "        odds_ratios.append(np.exp(model.params[1]))\n",
    "        lowerCI.append(np.exp(model.conf_int()[0][1]))\n",
    "        upperCI.append(np.exp(model.conf_int()[1][1]))\n",
    "\n",
    "# Create a DataFrame to store odds ratios and confidence intervals\n",
    "or_ = pd.DataFrame({\"OR\": odds_ratios, \"Lower CI\": lowerCI, \"Upper CI\": upperCI})\n",
    "or_.index = region_list\n",
    "or_ = np.round(or_, 2)\n",
    "print()\n",
    "display(or_)\n",
    "\n",
    "# Plotting the graph\n",
    "fig, ax = plt.subplots(figsize=(10, 6))\n",
    "ax.errorbar(or_['OR'], or_.index, xerr=[or_['OR'] - or_['Lower CI'], or_['Upper CI'] - or_['OR']],\n",
    "            fmt='o', markersize=8, capsize=8, color='black', ecolor='gray')\n",
    "\n",
    "# Adding labels and title to the graph\n",
    "ax.set_xlabel(\"Odds ratio\")\n",
    "ax.set_title('Omicron VS Delta')\n",
    "ax.set_xlim(0, 10)\n",
    "\n",
    "# Adding a legend for better understanding\n",
    "ax.legend(['Odds Ratio'])\n",
    "\n",
    "# Adding a grid to the x-axis for better readability\n",
    "ax.grid(axis='x', linestyle='--', alpha=0.6)\n",
    "\n",
    "plt.show()\n",
    "\n",
    "# Additional information about variant cases for each region\n",
    "crosstab_delta_omicrom_REGION = pd.crosstab(df_temp['Regiao_nome'], df_temp['VARIANTE_COVID'])\n",
    "crosstab_delta_omicrom_REGION.rename(columns={0: \"OMICRON\", 1: \"DELTA\"}, inplace=True)\n",
    "print()\n",
    "print(\"Number of variant cases for each region:\")\n",
    "print(crosstab_delta_omicrom_REGION)"
   ]
  },
  {
   "cell_type": "markdown",
   "metadata": {},
   "source": [
    "Logistic regression for Covid Variant (GAMA VS OMICROM) for each region"
   ]
  },
  {
   "cell_type": "code",
   "execution_count": null,
   "metadata": {},
   "outputs": [],
   "source": [
    "df_temp = df.loc[df['VARIANTE_COVID'] != 2].copy()  \n",
    "df_temp.reset_index(inplace=True, drop=True)\n",
    "\n",
    "#create a variable\n",
    "df_temp['UTI_EVOLUCAO'] = df_temp['VARIANTE_COVID'] * np.nan\n",
    "\n",
    "lista_obito = [1, 3]\n",
    "for i in range(len(df_temp['VARIANTE_COVID'])):\n",
    "    if (df_temp['EVOLUCAO'][i] in lista_obito) and (df_temp['UTI'][i] == 0):  # Individuals who were not admitted to the ICU and died\n",
    "        df_temp.loc[i, 'UTI_EVOLUCAO'] = 1\n",
    "    if (df_temp['EVOLUCAO'][i] in lista_obito) and (df_temp['UTI'][i] == 1):  # Individuals who were admitted to the ICU and died\n",
    "        df_temp.loc[i, 'UTI_EVOLUCAO'] = 1\n",
    "    if (df_temp['EVOLUCAO'][i] == 0) and (df_temp['UTI'][i] == 1):  # Individuals admitted to the ICU who did not die\n",
    "        df_temp.loc[i, 'UTI_EVOLUCAO'] = 1\n",
    "    if (df_temp['EVOLUCAO'][i] == 0) and (df_temp['UTI'][i] == 0):  # Individuals who were not admitted to the ICU and did not die\n",
    "        df_temp.loc[i, 'UTI_EVOLUCAO'] = 0\n",
    "        \n",
    "df_temp['UTI_EVOLUCAO'].fillna('Missing', inplace=True)\n",
    "df_temp = df_temp[df_temp['UTI_EVOLUCAO'] != 'Missing']\n",
    "\n",
    "df_temp['VARIANTE_COVID']=df_temp['VARIANTE_COVID'].map(DIC_GAMA_VS_OMICROM) # true : gamma, false : omicrom"
   ]
  },
  {
   "cell_type": "code",
   "execution_count": null,
   "metadata": {},
   "outputs": [],
   "source": [
    "df_temp['UTI_EVOLUCAO'].value_counts()"
   ]
  },
  {
   "cell_type": "code",
   "execution_count": null,
   "metadata": {},
   "outputs": [],
   "source": [
    "#delimit the dataset for each region\n",
    "\n",
    "df_temp_sudeste = df_temp.loc[df_temp['Regiao_nome'] == 'Southeast']\n",
    "df_temp_Sul = df_temp.loc[df_temp['Regiao_nome'] == 'South']\n",
    "df_temp_Nordeste = df_temp.loc[df_temp['Regiao_nome'] == 'Northeast']\n",
    "df_temp_Centro_oeste = df_temp.loc[df_temp['Regiao_nome'] == 'Midwest']\n",
    "df_temp_Norte = df_temp.loc[df_temp['Regiao_nome'] == 'North']"
   ]
  },
  {
   "cell_type": "code",
   "execution_count": null,
   "metadata": {},
   "outputs": [],
   "source": [
    "region_list = ['Southeast', 'South', 'Northeast', 'Midwest', 'North', 'Brazil']\n",
    "data_list = [df_temp_sudeste, df_temp_Sul, df_temp_Nordeste, df_temp_Centro_oeste, df_temp_Norte, df_temp]\n",
    "odds_ratios = []\n",
    "lowerCI = []\n",
    "upperCI = []\n",
    "\n",
    "# Loop through each region and perform logistic regression\n",
    "for region, data_ in zip(region_list, data_list):\n",
    "    with warnings.catch_warnings():\n",
    "        warnings.simplefilter(\"ignore\")\n",
    "        model = smf.logit(\"VARIANTE_COVID ~ UTI_EVOLUCAO\", data=data_).fit(disp=False)\n",
    "        odds_ratios.append(np.exp(model.params[1]))\n",
    "        lowerCI.append(np.exp(model.conf_int()[0][1]))\n",
    "        upperCI.append(np.exp(model.conf_int()[1][1]))\n",
    "\n",
    "# Create a DataFrame to store odds ratios and confidence intervals\n",
    "or_ = pd.DataFrame({\"OR\": odds_ratios, \"Lower CI\": lowerCI, \"Upper CI\": upperCI})\n",
    "or_.index = region_list\n",
    "or_ = np.round(or_, 2)\n",
    "print()\n",
    "display(or_)\n",
    "\n",
    "# Plotting the graph\n",
    "fig, ax = plt.subplots(figsize=(10, 6))\n",
    "ax.errorbar(or_['OR'], or_.index, xerr=[or_['OR'] - or_['Lower CI'], or_['Upper CI'] - or_['OR']],\n",
    "            fmt='o', markersize=8, capsize=8, color='black', ecolor='gray')\n",
    "\n",
    "# Adding labels and title to the graph\n",
    "ax.set_xlabel(\"Odds ratio\")\n",
    "ax.set_title('Omicron VS Gamma')\n",
    "ax.set_xlim(1, 9)\n",
    "\n",
    "# Adding a legend for better understanding\n",
    "ax.legend(['Odds Ratio'])\n",
    "\n",
    "# Adding a grid to the x-axis for better readability\n",
    "ax.grid(axis='x', linestyle='--', alpha=0.6)\n",
    "\n",
    "plt.show()\n",
    "\n",
    "# Additional information about variant cases for each region\n",
    "crosstab_gamma_omicrom_REGION = pd.crosstab(df_temp['Regiao_nome'], df_temp['VARIANTE_COVID'])\n",
    "crosstab_gamma_omicrom_REGION.rename(columns={0: \"OMICRON\", 1: \"GAMMA\"}, inplace=True)\n",
    "print()\n",
    "print(\"Number of variant cases for each region:\")\n",
    "print(crosstab_gamma_omicrom_REGION)"
   ]
  },
  {
   "cell_type": "markdown",
   "metadata": {},
   "source": [
    "Logistic regression for Covid Variant (GAMMA VS DELTA) for each region"
   ]
  },
  {
   "cell_type": "code",
   "execution_count": null,
   "metadata": {},
   "outputs": [],
   "source": [
    "df_temp = df.loc[df['VARIANTE_COVID'] != 3].copy()  \n",
    "df_temp.reset_index(inplace=True, drop=True)\n",
    "\n",
    "#create a variable\n",
    "df_temp['UTI_EVOLUCAO'] = df_temp['VARIANTE_COVID'] * np.nan\n",
    "\n",
    "lista_obito = [1, 3]\n",
    "for i in range(len(df_temp['VARIANTE_COVID'])):\n",
    "    if (df_temp['EVOLUCAO'][i] in lista_obito) and (df_temp['UTI'][i] == 0):  # Individuals who were not admitted to the ICU and died\n",
    "        df_temp.loc[i, 'UTI_EVOLUCAO'] = 1\n",
    "    if (df_temp['EVOLUCAO'][i] in lista_obito) and (df_temp['UTI'][i] == 1):  # Individuals who were admitted to the ICU and died\n",
    "        df_temp.loc[i, 'UTI_EVOLUCAO'] = 1\n",
    "    if (df_temp['EVOLUCAO'][i] == 0) and (df_temp['UTI'][i] == 1):  # Individuals admitted to the ICU who did not die\n",
    "        df_temp.loc[i, 'UTI_EVOLUCAO'] = 1\n",
    "    if (df_temp['EVOLUCAO'][i] == 0) and (df_temp['UTI'][i] == 0):  # Individuals who were not admitted to the ICU and did not die\n",
    "        df_temp.loc[i, 'UTI_EVOLUCAO'] = 0\n",
    "        \n",
    "df_temp['UTI_EVOLUCAO'].fillna('Missing', inplace=True)\n",
    "df_temp = df_temp[df_temp['UTI_EVOLUCAO'] != 'Missing']\n",
    "\n",
    "df_temp['VARIANTE_COVID']=df_temp['VARIANTE_COVID'].map(DIC_GAMA_VS_DELTA) # true : gamma, false : delta"
   ]
  },
  {
   "cell_type": "code",
   "execution_count": null,
   "metadata": {},
   "outputs": [],
   "source": [
    "#delimit the dataset for each region\n",
    "\n",
    "df_temp_sudeste = df_temp.loc[df_temp['Regiao_nome'] == 'Southeast']\n",
    "df_temp_Sul = df_temp.loc[df_temp['Regiao_nome'] == 'South']\n",
    "df_temp_Nordeste = df_temp.loc[df_temp['Regiao_nome'] == 'Northeast']\n",
    "df_temp_Centro_oeste = df_temp.loc[df_temp['Regiao_nome'] == 'Midwest']\n",
    "df_temp_Norte = df_temp.loc[df_temp['Regiao_nome'] == 'North']"
   ]
  },
  {
   "cell_type": "code",
   "execution_count": null,
   "metadata": {},
   "outputs": [],
   "source": [
    "region_list = ['Southeast', 'South', 'Northeast', 'Midwest', 'North', 'Brazil']\n",
    "data_list = [df_temp_sudeste, df_temp_Sul, df_temp_Nordeste, df_temp_Centro_oeste, df_temp_Norte, df_temp]\n",
    "odds_ratios = []\n",
    "lowerCI = []\n",
    "upperCI = []\n",
    "\n",
    "# Loop through each region and perform logistic regression\n",
    "for region, data_ in zip(region_list, data_list):\n",
    "    with warnings.catch_warnings():\n",
    "        warnings.simplefilter(\"ignore\")\n",
    "        model = smf.logit(\"VARIANTE_COVID ~ UTI_EVOLUCAO\", data=data_).fit(disp=False)\n",
    "        odds_ratios.append(np.exp(model.params[1]))\n",
    "        lowerCI.append(np.exp(model.conf_int()[0][1]))\n",
    "        upperCI.append(np.exp(model.conf_int()[1][1]))\n",
    "\n",
    "# Create a DataFrame to store odds ratios and confidence intervals\n",
    "or_ = pd.DataFrame({\"OR\": odds_ratios, \"Lower CI\": lowerCI, \"Upper CI\": upperCI})\n",
    "or_.index = region_list\n",
    "or_ = np.round(or_, 2)\n",
    "print()\n",
    "display(or_)\n",
    "\n",
    "# Plotting the graph\n",
    "fig, ax = plt.subplots(figsize=(10, 6))\n",
    "ax.errorbar(or_['OR'], or_.index, xerr=[or_['OR'] - or_['Lower CI'], or_['Upper CI'] - or_['OR']],\n",
    "            fmt='o', markersize=8, capsize=8, color='black', ecolor='gray')\n",
    "\n",
    "# Adding labels and title to the graph\n",
    "ax.set_xlabel(\"Odds ratio\")\n",
    "ax.set_title('Gamma VS Delta')\n",
    "ax.set_xlim(0.5, 3.5)\n",
    "\n",
    "# Adding a legend for better understanding\n",
    "ax.legend(['Odds Ratio'])\n",
    "\n",
    "# Adding a grid to the x-axis for better readability\n",
    "ax.grid(axis='x', linestyle='--', alpha=0.6)\n",
    "\n",
    "plt.show()\n",
    "\n",
    "# Additional information about variant cases for each region\n",
    "crosstab_gamma_delta_REGION = pd.crosstab(df_temp['Regiao_nome'], df_temp['VARIANTE_COVID'])\n",
    "crosstab_gamma_delta_REGION.rename(columns={0: \"DELTA\", 1: \"GAMMA\"}, inplace=True)\n",
    "print()\n",
    "print(\"Number of variant cases for each region:\")\n",
    "print(crosstab_gamma_delta_REGION)"
   ]
  },
  {
   "cell_type": "markdown",
   "metadata": {},
   "source": [
    "## Table 3: Association of Clinical features of SARS-CoV-2 infection at admission and adverse maternal outcomes, by SARS-COV-2 VOCs,  in Brazil and regions.  (one table fo each outcome ICU admission, Intubation, maternal death)."
   ]
  },
  {
   "cell_type": "markdown",
   "metadata": {},
   "source": [
    "Logistic regression for ICU admission"
   ]
  },
  {
   "cell_type": "code",
   "execution_count": null,
   "metadata": {},
   "outputs": [],
   "source": [
    "vars = ['FEBRE', 'TOSSE', 'GARGANTA', 'DISPNEIA', 'DESC_RESP', 'SATURACAO','DIARREIA', 'VOMITO', 'DOR_ABD', 'FADIGA', 'PERD_OLFT', 'PERD_PALA']\n",
    "colunas = ['UTI', 'FEBRE', 'TOSSE', 'GARGANTA', 'DISPNEIA', 'DESC_RESP', 'SATURACAO', 'DIARREIA', 'VOMITO', 'DOR_ABD', 'FADIGA', 'PERD_OLFT', 'PERD_PALA']"
   ]
  },
  {
   "cell_type": "code",
   "execution_count": null,
   "metadata": {},
   "outputs": [],
   "source": [
    "#df['UTI'] = df['UTI'].replace({\"True\": 1, \"False\": 2}) # 1 : YES , 2 : NO\n",
    "df_temp = df.copy()  \n",
    "for coluna in colunas:\n",
    "    df_temp = df_temp.loc[df_temp[coluna] != 'Missing']\n",
    "    \n",
    "dic = {1:1, 2:0}\n",
    "    \n",
    "df_temp[colunas] = df_temp[colunas].applymap(lambda x: dic.get(x, x))\n",
    "\n",
    "df_temp_gama = df_temp.loc[df_temp['VARIANTE_COVID'] == 1].copy()  \n",
    "\n",
    "df_temp_delta = df_temp.loc[df_temp['VARIANTE_COVID'] == 2].copy()  \n",
    "\n",
    "df_temp_omicrom = df_temp.loc[df_temp['VARIANTE_COVID'] == 3].copy()  "
   ]
  },
  {
   "cell_type": "code",
   "execution_count": null,
   "metadata": {},
   "outputs": [],
   "source": [
    "#creating Logistic Regression model only for p-values\n",
    "models = {}\n",
    "p_values = {}\n",
    "for i, feature in enumerate(vars):\n",
    "  with warnings.catch_warnings():\n",
    "        warnings.simplefilter(\"ignore\")\n",
    "        models[f\"model_{i}\"] = smf.logit(f\"UTI ~ {feature}\", data=df_temp).fit(disp=0)\n",
    "        p_values[f\"p_value_{i}\"] = models[f\"model_{i}\"].pvalues[1]\n",
    "\n",
    "lista_p_values = list(p_values.values())\n",
    "lista_p_values = np.round(lista_p_values,4)\n",
    "\n",
    "# Logistic Regression - Gamma\n",
    "\n",
    "odds_ratios_gama = []\n",
    "lowerCI_gama= []\n",
    "upperCI_gama = []\n",
    "\n",
    "for i, var in enumerate(vars):\n",
    "    formula = f\"UTI ~ {var}\"\n",
    "    with warnings.catch_warnings():\n",
    "        warnings.simplefilter(\"ignore\")\n",
    "        model = smf.logit(formula, data=df_temp_gama).fit(disp=0)\n",
    "\n",
    "        odds_ratios_gama.append(np.exp(model.params[1]))\n",
    "        lowerCI_gama.append(np.exp(model.conf_int()[0][1]))\n",
    "        upperCI_gama.append(np.exp(model.conf_int()[1][1]))\n",
    "\n",
    "or_gama = pd.DataFrame({\"OR\": odds_ratios_gama,\"Lower CI\": lowerCI_gama,\"Upper CI\": upperCI_gama})\n",
    "or_gama.index = vars\n",
    "or_gama = np.round(or_gama,2)\n",
    "or_gama = or_gama.astype(str)\n",
    "or_gama['OR GAMA (95% CI)'] = or_gama.apply(lambda x: x['OR'] + ' (' + x['Lower CI'] + ' ' + '-' + ' ' + x['Upper CI'] + ')', axis=1)\n",
    "or_gama.drop(columns = ['OR','Lower CI','Upper CI'], inplace = True)\n",
    "\n",
    "# Logistic Regression - Delta\n",
    "\n",
    "odds_ratios_delta = []\n",
    "lowerCI_delta= []\n",
    "upperCI_delta = []\n",
    "\n",
    "for i, var in enumerate(vars):\n",
    "    formula = f\"UTI ~ {var}\"\n",
    "    with warnings.catch_warnings():\n",
    "        warnings.simplefilter(\"ignore\")\n",
    "        model = smf.logit(formula, data=df_temp_delta).fit(disp=0)\n",
    "\n",
    "        odds_ratios_delta.append(np.exp(model.params[1]))\n",
    "        lowerCI_delta.append(np.exp(model.conf_int()[0][1]))\n",
    "        upperCI_delta.append(np.exp(model.conf_int()[1][1]))\n",
    "\n",
    "or_delta = pd.DataFrame({\"OR\": odds_ratios_delta,\"Lower CI\": lowerCI_delta,\"Upper CI\": upperCI_delta})\n",
    "or_delta.index = vars\n",
    "or_delta = np.round(or_delta,2)\n",
    "or_delta = or_delta.astype(str)\n",
    "or_delta['OR DELTA (95% CI)'] = or_delta.apply(lambda x: x['OR'] + ' (' + x['Lower CI'] + ' ' + '-' + ' ' + x['Upper CI'] + ')', axis=1)\n",
    "or_delta.drop(columns = ['OR','Lower CI','Upper CI'], inplace = True)\n",
    "\n",
    "# Logistic Regression - Omicrom\n",
    "\n",
    "odds_ratios_omicrom = []\n",
    "lowerCI_omicrom = []\n",
    "upperCI_omicrom = []\n",
    "\n",
    "for i, var in enumerate(vars):\n",
    "    formula = f\"UTI ~ {var}\"\n",
    "    with warnings.catch_warnings():\n",
    "        warnings.simplefilter(\"ignore\")\n",
    "        model = smf.logit(formula, data=df_temp_omicrom).fit(disp=0)\n",
    "\n",
    "        odds_ratios_omicrom.append(np.exp(model.params[1]))\n",
    "        lowerCI_omicrom.append(np.exp(model.conf_int()[0][1]))\n",
    "        upperCI_omicrom.append(np.exp(model.conf_int()[1][1]))\n",
    "\n",
    "or_omicrom = pd.DataFrame({\"OR\": odds_ratios_omicrom,\"Lower CI\": lowerCI_omicrom,\"Upper CI\": upperCI_omicrom})\n",
    "or_omicrom.index = vars\n",
    "or_omicrom = np.round(or_omicrom,2)\n",
    "or_omicrom = or_omicrom.astype(str)\n",
    "or_omicrom['OR OMICROM (95% CI)'] = or_omicrom.apply(lambda x: x['OR'] + ' (' + x['Lower CI'] + ' ' + '-' + ' ' + x['Upper CI'] + ')', axis=1)\n",
    "or_omicrom.drop(columns = ['OR','Lower CI','Upper CI'], inplace = True)\n",
    "\n",
    "or_UTI = pd.DataFrame({\"OR GAMA (95% CI)\":or_gama['OR GAMA (95% CI)'],\"OR DELTA (95% CI)\": or_delta['OR DELTA (95% CI)'],\"OR OMICROM (95% CI)\": or_omicrom['OR OMICROM (95% CI)']},index = vars)\n",
    "or_UTI['p-value'] = list(lista_p_values)\n",
    "or_UTI"
   ]
  },
  {
   "cell_type": "markdown",
   "metadata": {},
   "source": [
    "Logistic regression for Death"
   ]
  },
  {
   "cell_type": "code",
   "execution_count": null,
   "metadata": {},
   "outputs": [],
   "source": [
    "df['EVOLUCAO'].value_counts()"
   ]
  },
  {
   "cell_type": "code",
   "execution_count": null,
   "metadata": {},
   "outputs": [],
   "source": [
    "df_temp = df.copy()  \n",
    "for coluna in colunas:\n",
    "    df_temp = df_temp.loc[df_temp[coluna] != 'Missing']\n",
    "    \n",
    "dic = {1:1, 2:0}\n",
    "    \n",
    "df_temp[colunas] = df_temp[colunas].applymap(lambda x: dic.get(x, x))\n",
    "\n",
    "dic_evolucao = {1:1 ,0:0, 3:1, \"Missing\" : \"Missing\"} \n",
    "df_temp['EVOLUCAO']=df_temp['EVOLUCAO'].map(dic_evolucao)\n",
    "df_temp = df_temp[df_temp['EVOLUCAO'] != 'Missing']\n",
    "df_temp['EVOLUCAO'] = df_temp['EVOLUCAO'].astype(int)\n",
    "\n",
    "df_temp_gama = df_temp.loc[df_temp['VARIANTE_COVID'] == 1].copy()  \n",
    "\n",
    "df_temp_delta = df_temp.loc[df_temp['VARIANTE_COVID'] == 2].copy()  \n",
    "\n",
    "df_temp_omicrom = df_temp.loc[df_temp['VARIANTE_COVID'] == 3].copy()   "
   ]
  },
  {
   "cell_type": "code",
   "execution_count": null,
   "metadata": {},
   "outputs": [],
   "source": [
    "#creating Logistic Regression model only for p-values\n",
    "models = {}\n",
    "p_values = {}\n",
    "for i, feature in enumerate(vars):\n",
    "  with warnings.catch_warnings():\n",
    "        warnings.simplefilter(\"ignore\")\n",
    "        models[f\"model_{i}\"] = smf.logit(f\"EVOLUCAO ~ {feature}\", data=df_temp).fit(disp=0)\n",
    "        p_values[f\"p_value_{i}\"] = models[f\"model_{i}\"].pvalues[1]\n",
    "\n",
    "lista_p_values = list(p_values.values())\n",
    "lista_p_values = np.round(lista_p_values,4)\n",
    "\n",
    "# Logistic Regression - Gamma\n",
    "\n",
    "odds_ratios_gama = []\n",
    "lowerCI_gama= []\n",
    "upperCI_gama = []\n",
    "\n",
    "for i, var in enumerate(vars):\n",
    "    formula = f\"EVOLUCAO ~ {var}\"\n",
    "    with warnings.catch_warnings():\n",
    "        warnings.simplefilter(\"ignore\")\n",
    "        model = smf.logit(formula, data=df_temp_gama).fit(disp=0)\n",
    "\n",
    "        odds_ratios_gama.append(np.exp(model.params[1]))\n",
    "        lowerCI_gama.append(np.exp(model.conf_int()[0][1]))\n",
    "        upperCI_gama.append(np.exp(model.conf_int()[1][1]))\n",
    "\n",
    "or_gama = pd.DataFrame({\"OR\": odds_ratios_gama,\"Lower CI\": lowerCI_gama,\"Upper CI\": upperCI_gama})\n",
    "or_gama.index = vars\n",
    "or_gama = np.round(or_gama,2)\n",
    "or_gama = or_gama.astype(str)\n",
    "or_gama['OR GAMA (95% CI)'] = or_gama.apply(lambda x: x['OR'] + ' (' + x['Lower CI'] + ' ' + '-' + ' ' + x['Upper CI'] + ')', axis=1)\n",
    "or_gama.drop(columns = ['OR','Lower CI','Upper CI'], inplace = True)\n",
    "\n",
    "# Logistic Regression - Delta\n",
    "\n",
    "odds_ratios_delta = []\n",
    "lowerCI_delta= []\n",
    "upperCI_delta = []\n",
    "\n",
    "for i, var in enumerate(vars):\n",
    "    formula = f\"EVOLUCAO ~ {var}\"\n",
    "    with warnings.catch_warnings():\n",
    "        warnings.simplefilter(\"ignore\")\n",
    "        model = smf.logit(formula, data=df_temp_delta).fit(disp=0)\n",
    "\n",
    "        odds_ratios_delta.append(np.exp(model.params[1]))\n",
    "        lowerCI_delta.append(np.exp(model.conf_int()[0][1]))\n",
    "        upperCI_delta.append(np.exp(model.conf_int()[1][1]))\n",
    "\n",
    "or_delta = pd.DataFrame({\"OR\": odds_ratios_delta,\"Lower CI\": lowerCI_delta,\"Upper CI\": upperCI_delta})\n",
    "or_delta.index = vars\n",
    "or_delta = np.round(or_delta,2)\n",
    "or_delta = or_delta.astype(str)\n",
    "or_delta['OR DELTA (95% CI)'] = or_delta.apply(lambda x: x['OR'] + ' (' + x['Lower CI'] + ' ' + '-' + ' ' + x['Upper CI'] + ')', axis=1)\n",
    "or_delta.drop(columns = ['OR','Lower CI','Upper CI'], inplace = True)\n",
    "\n",
    "# Logistic Regression - Omicrom\n",
    "\n",
    "odds_ratios_omicrom = []\n",
    "lowerCI_omicrom = []\n",
    "upperCI_omicrom = []\n",
    "\n",
    "for i, var in enumerate(vars):\n",
    "    formula = f\"EVOLUCAO ~ {var}\"\n",
    "    with warnings.catch_warnings():\n",
    "        warnings.simplefilter(\"ignore\")\n",
    "        model = smf.logit(formula, data=df_temp_omicrom).fit(disp=0)\n",
    "\n",
    "        odds_ratios_omicrom.append(np.exp(model.params[1]))\n",
    "        lowerCI_omicrom.append(np.exp(model.conf_int()[0][1]))\n",
    "        upperCI_omicrom.append(np.exp(model.conf_int()[1][1]))\n",
    "\n",
    "or_omicrom = pd.DataFrame({\"OR\": odds_ratios_omicrom,\"Lower CI\": lowerCI_omicrom,\"Upper CI\": upperCI_omicrom})\n",
    "or_omicrom.index = vars\n",
    "or_omicrom = np.round(or_omicrom,2)\n",
    "or_omicrom = or_omicrom.astype(str)\n",
    "or_omicrom['OR OMICROM (95% CI)'] = or_omicrom.apply(lambda x: x['OR'] + ' (' + x['Lower CI'] + ' ' + '-' + ' ' + x['Upper CI'] + ')', axis=1)\n",
    "or_omicrom.drop(columns = ['OR','Lower CI','Upper CI'], inplace = True)\n",
    "\n",
    "or_OBITO = pd.DataFrame({\"OR GAMA (95% CI)\":or_gama['OR GAMA (95% CI)'],\"OR DELTA (95% CI)\": or_delta['OR DELTA (95% CI)'],\"OR OMICROM (95% CI)\": or_omicrom['OR OMICROM (95% CI)']},index = vars)\n",
    "or_OBITO['p-value'] = list(lista_p_values)\n",
    "or_OBITO"
   ]
  },
  {
   "cell_type": "markdown",
   "metadata": {},
   "source": [
    "### To make a comparison with the general vaccination rate among cases, showing that the most severe cases were not vaccinated "
   ]
  },
  {
   "cell_type": "markdown",
   "metadata": {},
   "source": [
    "Analysis comparing vaccination coverage among cases of maternal death and ICU admission vs. patients who did not have either outcome for Gamma"
   ]
  },
  {
   "cell_type": "code",
   "execution_count": null,
   "metadata": {},
   "outputs": [],
   "source": [
    "df_temp = df.loc[df['VARIANTE_COVID'] == 1].copy()  #Gamma\n",
    "df_temp.reset_index(inplace=True, drop=True)\n",
    "\n",
    "#create a variable\n",
    "df_temp['UTI_EVOLUCAO'] = df_temp['VARIANTE_COVID'] * np.nan\n",
    "\n",
    "lista_obito = [1, 3]\n",
    "for i in range(len(df_temp['VARIANTE_COVID'])):\n",
    "    if (df_temp['EVOLUCAO'][i] in lista_obito) and (df_temp['UTI'][i] == 0):  # Individuals who were not admitted to the ICU and died\n",
    "        df_temp.loc[i, 'UTI_EVOLUCAO'] = 1\n",
    "    if (df_temp['EVOLUCAO'][i] in lista_obito) and (df_temp['UTI'][i] == 1):  # Individuals who were admitted to the ICU and died\n",
    "        df_temp.loc[i, 'UTI_EVOLUCAO'] = 1\n",
    "    if (df_temp['EVOLUCAO'][i] == 0) and (df_temp['UTI'][i] == 1):  # Individuals admitted to the ICU who did not die\n",
    "        df_temp.loc[i, 'UTI_EVOLUCAO'] = 1\n",
    "    if (df_temp['EVOLUCAO'][i] == 0) and (df_temp['UTI'][i] == 0):  # Individuals who were not admitted to the ICU and did not die\n",
    "        df_temp.loc[i, 'UTI_EVOLUCAO'] = 0\n",
    "        \n",
    "df_temp['UTI_EVOLUCAO'].fillna('Missing', inplace=True)\n",
    "df_temp = df_temp[df_temp['UTI_EVOLUCAO'] != 'Missing']\n",
    "df_temp['UTI_EVOLUCAO'] = df_temp['UTI_EVOLUCAO'].astype(int)\n",
    "df_temp = df_temp[df_temp['VACINA_COV'] != 'Missing']\n",
    "df_temp['VACINA_COV'] = df_temp['VACINA_COV'].replace({\"No\": 0, \"Yes\": 1}) \n",
    "df_temp.reset_index(inplace=True, drop=True)"
   ]
  },
  {
   "cell_type": "code",
   "execution_count": null,
   "metadata": {},
   "outputs": [],
   "source": [
    "# Logistic regression model\n",
    "print(f\"Logistic regression model:\")\n",
    "model = smf.logit(\"UTI_EVOLUCAO ~ VACINA_COV\" , data=df_temp).fit(disp=False)\n",
    "print(model.summary())\n",
    "\n",
    "# Odds ratios\n",
    "odds_ratios = pd.DataFrame(\n",
    "    {\n",
    "        \"OR\": model.params,\n",
    "        \"Lower CI\": model.conf_int()[0],\n",
    "        \"Upper CI\": model.conf_int()[1],\n",
    "    }\n",
    ")\n",
    "odds_ratios = np.exp(odds_ratios)\n",
    "odds_ratios = odds_ratios.iloc[1:3]\n",
    "\n",
    "# Plot odds ratios\n",
    "print()\n",
    "print(f\"Odds ratios for VACINA_COV:\")\n",
    "print(odds_ratios)\n",
    "print()\n",
    "\n",
    "# Crosstab\n",
    "crosstab = pd.crosstab(df_temp[\"VACINA_COV\"], df_temp[\"UTI_EVOLUCAO\"])\n",
    "\n",
    "crosstab.rename(columns={1: \"YES\", 0: \"NO\"}, index={0: \"Otherwise\", 1: \"Several cases\"}, inplace=True)\n",
    "\n",
    "plt.figure(figsize=(8, 6))\n",
    "ax = sn.heatmap(crosstab, annot=True, fmt=\"d\", cmap=\"Blues\", cbar=True)\n",
    "\n",
    "# Add values to each cell\n",
    "for i in range(len(crosstab)):\n",
    "    for j in range(len(crosstab.columns)):\n",
    "        ax.text(j + 0.5, i + 0.5, crosstab.iloc[i, j],\n",
    "                ha='center', va='center', color='black', fontsize=10)\n",
    "\n",
    "plt.xlabel(\"VACINA_COV\")\n",
    "plt.ylabel(\"UTI_EVOLUCAO\")\n",
    "plt.show()"
   ]
  },
  {
   "cell_type": "markdown",
   "metadata": {},
   "source": [
    "Analysis comparing vaccination coverage among cases of maternal death and ICU admission vs. patients who did not have either outcome for Delta"
   ]
  },
  {
   "cell_type": "code",
   "execution_count": null,
   "metadata": {},
   "outputs": [],
   "source": [
    "df_temp = df.loc[df['VARIANTE_COVID'] == 2].copy()  #Delta\n",
    "df_temp.reset_index(inplace=True, drop=True)\n",
    "\n",
    "#create a variable\n",
    "df_temp['UTI_EVOLUCAO'] = df_temp['VARIANTE_COVID'] * np.nan\n",
    "\n",
    "lista_obito = [1, 3]\n",
    "for i in range(len(df_temp['VARIANTE_COVID'])):\n",
    "    if (df_temp['EVOLUCAO'][i] in lista_obito) and (df_temp['UTI'][i] == 0):  # Individuals who were not admitted to the ICU and died\n",
    "        df_temp.loc[i, 'UTI_EVOLUCAO'] = 1\n",
    "    if (df_temp['EVOLUCAO'][i] in lista_obito) and (df_temp['UTI'][i] == 1):  # Individuals who were admitted to the ICU and died\n",
    "        df_temp.loc[i, 'UTI_EVOLUCAO'] = 1\n",
    "    if (df_temp['EVOLUCAO'][i] == 0) and (df_temp['UTI'][i] == 1):  # Individuals admitted to the ICU who did not die\n",
    "        df_temp.loc[i, 'UTI_EVOLUCAO'] = 1\n",
    "    if (df_temp['EVOLUCAO'][i] == 0) and (df_temp['UTI'][i] == 0):  # Individuals who were not admitted to the ICU and did not die\n",
    "        df_temp.loc[i, 'UTI_EVOLUCAO'] = 0\n",
    "        \n",
    "df_temp['UTI_EVOLUCAO'].fillna('Missing', inplace=True)\n",
    "df_temp = df_temp[df_temp['UTI_EVOLUCAO'] != 'Missing']\n",
    "df_temp['UTI_EVOLUCAO'] = df_temp['UTI_EVOLUCAO'].astype(int)\n",
    "df_temp = df_temp[df_temp['VACINA_COV'] != 'Missing']\n",
    "df_temp['VACINA_COV'] = df_temp['VACINA_COV'].replace({\"No\": 0, \"Yes\": 1}) \n",
    "df_temp.reset_index(inplace=True, drop=True)"
   ]
  },
  {
   "cell_type": "code",
   "execution_count": null,
   "metadata": {},
   "outputs": [],
   "source": [
    "# Logistic regression model\n",
    "print(f\"Logistic regression model:\")\n",
    "model = smf.logit(\"UTI_EVOLUCAO ~ VACINA_COV\" , data=df_temp).fit(disp=False)\n",
    "print(model.summary())\n",
    "\n",
    "# Odds ratios\n",
    "odds_ratios = pd.DataFrame(\n",
    "    {\n",
    "        \"OR\": model.params,\n",
    "        \"Lower CI\": model.conf_int()[0],\n",
    "        \"Upper CI\": model.conf_int()[1],\n",
    "    }\n",
    ")\n",
    "odds_ratios = np.exp(odds_ratios)\n",
    "odds_ratios = odds_ratios.iloc[1:3]\n",
    "\n",
    "# Plot odds ratios\n",
    "print()\n",
    "print(f\"Odds ratios for VACINA_COV:\")\n",
    "print(odds_ratios)\n",
    "print()\n",
    "\n",
    "# Crosstab\n",
    "crosstab = pd.crosstab(df_temp[\"VACINA_COV\"], df_temp[\"UTI_EVOLUCAO\"])\n",
    "\n",
    "crosstab.rename(columns={1: \"YES\", 0: \"NO\"}, index={0: \"Otherwise\", 1: \"Several cases\"}, inplace=True)\n",
    "\n",
    "plt.figure(figsize=(8, 6))\n",
    "ax = sn.heatmap(crosstab, annot=True, fmt=\"d\", cmap=\"Blues\", cbar=True)\n",
    "\n",
    "# Add values to each cell\n",
    "for i in range(len(crosstab)):\n",
    "    for j in range(len(crosstab.columns)):\n",
    "        ax.text(j + 0.5, i + 0.5, crosstab.iloc[i, j],\n",
    "                ha='center', va='center', color='black', fontsize=10)\n",
    "\n",
    "plt.xlabel(\"VACINA_COV\")\n",
    "plt.ylabel(\"UTI_EVOLUCAO\")\n",
    "plt.show()"
   ]
  },
  {
   "cell_type": "markdown",
   "metadata": {},
   "source": [
    "Analysis comparing vaccination coverage among cases of maternal death and ICU admission vs. patients who did not have either outcome for Omicrom"
   ]
  },
  {
   "cell_type": "code",
   "execution_count": null,
   "metadata": {},
   "outputs": [],
   "source": [
    "df_temp = df.loc[df['VARIANTE_COVID'] == 3].copy()  #Omicrom\n",
    "df_temp.reset_index(inplace=True, drop=True)\n",
    "\n",
    "#create a variable\n",
    "df_temp['UTI_EVOLUCAO'] = df_temp['VARIANTE_COVID'] * np.nan\n",
    "\n",
    "lista_obito = [1, 3]\n",
    "for i in range(len(df_temp['VARIANTE_COVID'])):\n",
    "    if (df_temp['EVOLUCAO'][i] in lista_obito) and (df_temp['UTI'][i] == 0):  # Individuals who were not admitted to the ICU and died\n",
    "        df_temp.loc[i, 'UTI_EVOLUCAO'] = 1\n",
    "    if (df_temp['EVOLUCAO'][i] in lista_obito) and (df_temp['UTI'][i] == 1):  # Individuals who were admitted to the ICU and died\n",
    "        df_temp.loc[i, 'UTI_EVOLUCAO'] = 1\n",
    "    if (df_temp['EVOLUCAO'][i] == 0) and (df_temp['UTI'][i] == 1):  # Individuals admitted to the ICU who did not die\n",
    "        df_temp.loc[i, 'UTI_EVOLUCAO'] = 1\n",
    "    if (df_temp['EVOLUCAO'][i] == 0) and (df_temp['UTI'][i] == 0):  # Individuals who were not admitted to the ICU and did not die\n",
    "        df_temp.loc[i, 'UTI_EVOLUCAO'] = 0\n",
    "        \n",
    "df_temp['UTI_EVOLUCAO'].fillna('Missing', inplace=True)\n",
    "df_temp = df_temp[df_temp['UTI_EVOLUCAO'] != 'Missing']\n",
    "df_temp['UTI_EVOLUCAO'] = df_temp['UTI_EVOLUCAO'].astype(int)\n",
    "df_temp = df_temp[df_temp['VACINA_COV'] != 'Missing']\n",
    "df_temp['VACINA_COV'] = df_temp['VACINA_COV'].replace({\"No\": 0, \"Yes\": 1}) \n",
    "df_temp.reset_index(inplace=True, drop=True)"
   ]
  },
  {
   "cell_type": "code",
   "execution_count": null,
   "metadata": {},
   "outputs": [],
   "source": [
    "# Logistic regression model\n",
    "print(f\"Logistic regression model:\")\n",
    "model = smf.logit(\"UTI_EVOLUCAO ~ VACINA_COV\" , data=df_temp).fit(disp=False)\n",
    "print(model.summary())\n",
    "\n",
    "# Odds ratios\n",
    "odds_ratios = pd.DataFrame(\n",
    "    {\n",
    "        \"OR\": model.params,\n",
    "        \"Lower CI\": model.conf_int()[0],\n",
    "        \"Upper CI\": model.conf_int()[1],\n",
    "    }\n",
    ")\n",
    "odds_ratios = np.exp(odds_ratios)\n",
    "odds_ratios = odds_ratios.iloc[1:3]\n",
    "\n",
    "# Plot odds ratios\n",
    "print()\n",
    "print(f\"Odds ratios for VACINA_COV:\")\n",
    "print(odds_ratios)\n",
    "print()\n",
    "\n",
    "# Crosstab\n",
    "crosstab = pd.crosstab(df_temp[\"VACINA_COV\"], df_temp[\"UTI_EVOLUCAO\"])\n",
    "\n",
    "crosstab.rename(columns={1: \"YES\", 0: \"NO\"}, index={0: \"Otherwise\", 1: \"Several cases\"}, inplace=True)\n",
    "\n",
    "plt.figure(figsize=(8, 6))\n",
    "ax = sn.heatmap(crosstab, annot=True, fmt=\"d\", cmap=\"Blues\", cbar=True)\n",
    "\n",
    "# Add values to each cell\n",
    "for i in range(len(crosstab)):\n",
    "    for j in range(len(crosstab.columns)):\n",
    "        ax.text(j + 0.5, i + 0.5, crosstab.iloc[i, j],\n",
    "                ha='center', va='center', color='black', fontsize=10)\n",
    "\n",
    "plt.xlabel(\"VACINA_COV\")\n",
    "plt.ylabel(\"UTI_EVOLUCAO\")\n",
    "plt.show()"
   ]
  },
  {
   "cell_type": "markdown",
   "metadata": {},
   "source": [
    "**Final considerations for the research**\n",
    "\n",
    "\n",
    "\n",
    "\n",
    "*   There is no information to perform the logistic regression for intubation (I couldn't find the variable in the data dictionary)\n",
    "*   No information on Neonatal severe outcomes was found in the data dictionary\n",
    "*   No information in the data dictionary to build table 4\n",
    "*   No information on Pregnancy outcomes was found in the data dictionary\n",
    "\n",
    "\n",
    "\n",
    "\n",
    "\n",
    "\n",
    "\n"
   ]
  }
 ],
 "metadata": {
  "colab": {
   "provenance": []
  },
  "kernelspec": {
   "display_name": "Python 3",
   "name": "python3"
  },
  "language_info": {
   "codemirror_mode": {
    "name": "ipython",
    "version": 3
   },
   "file_extension": ".py",
   "mimetype": "text/x-python",
   "name": "python",
   "nbconvert_exporter": "python",
   "pygments_lexer": "ipython3",
   "version": "3.11.7"
  }
 },
 "nbformat": 4,
 "nbformat_minor": 0
}
